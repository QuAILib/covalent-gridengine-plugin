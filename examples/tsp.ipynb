{
 "cells": [
  {
   "cell_type": "markdown",
   "metadata": {},
   "source": [
    "# Solving the Traveling Salesman Problem with Covalent and Fixstars Amplify\n",
    "\n",
    "This sample code uses Covalent and Fixstars Amplify to solve the traveling salesman problem (TSP).\n",
    "\n",
    "The code is based on a modified version of [Amplify Examples](https://github.com/fixstars/amplify-examples/blob/main/notebooks/ja/examples/tsp.ipynb). Amplify Examples is open source software under the [MIT License](https://github.com/fixstars/amplify-examples/blob/main/LICENSE)."
   ]
  },
  {
   "cell_type": "markdown",
   "metadata": {},
   "source": [
    "## Environment Setup\n",
    "\n",
    "### Create SSH Tunnel\n",
    "\n",
    "To connect to the ABCI system via SSH, create an SSH tunnel or `~/.ssh/config` to be able to login using ProxyJump with reference to https://docs.abci.ai/ja/getting-started/#general-method.\n",
    "The sample applications assume that you have created an SSH tunnel using port 10022 on localhost by the following command:\n",
    "\n",
    "```console\n",
    "ssh -i /path/identity_file -L 10022:es:22 -l username as.abci.ai\n",
    "```\n",
    "\n",
    "### Steps to create a virtual environment on the ABCI system\n",
    "\n",
    "Login to the ABCI system and create a virtual environment with the necessary packages installed to perform the tasks in the sample applications.\n",
    "Please refer to [Dependent Packages](#dependencies) for the required packages.\n",
    "For more information on creating a virtual environment on the ABCI system, please refer to https://docs.abci.ai/ja/python/.\n",
    "\n",
    "Below are the steps to create a virtual environment on the ABCI system named `amplify_env`.\n",
    "\n",
    "1. Login to the ABCI system using your own account.\n",
    "2. Run `module load python/3.10/3.10.10` to make python available.\n",
    "3. Create a virtual environment by running `python3 -m venv amplify_env`. The `amplify_env` directory is also created at this time.\n",
    "\n",
    "<a id=\"dependencies\"></a>\n",
    "### Dependent Packages\n",
    "\n",
    "Install the packages required to run the application in your local machine environment and in the virtual environment on the ABCI system.  \n",
    "Each sample application requires the packages listed below.  \n",
    "Bolded packages are required for both the local machine and the virtual environment on the ABCI system, and the rest are required only for the local machine.\n",
    "\n",
    "The sample application uses covalent-gridengine-plugin.  \n",
    "Please refer to the README of covalent-gridengine-plugin for information on how to install and use covalent-gridengine-plugin.\n",
    "\n",
    "- **covalent**\n",
    "- **amplify<=0.12.1**\n",
    "- **numpy**\n",
    "- matplotlib\n",
    "- covalent-gridengine-plugin"
   ]
  },
  {
   "cell_type": "code",
   "execution_count": 1,
   "metadata": {},
   "outputs": [],
   "source": [
    "import covalent"
   ]
  },
  {
   "cell_type": "markdown",
   "metadata": {},
   "source": [
    "Create a GridEngineExecutor object to execute tasks on the ABCI system."
   ]
  },
  {
   "cell_type": "code",
   "execution_count": 2,
   "metadata": {},
   "outputs": [],
   "source": [
    "abci_executor = covalent.executor.GridEngineExecutor(\n",
    "    username=\"username\",      # Enter your ABCI username.\n",
    "    address=\"localhost\",\n",
    "    port=10022,\n",
    "    ssh_key_file=\"~/.ssh/id_rsa\",  # Enter the path to your ssh key file.\n",
    "    remote_workdir=\"$HOME/amplify_env\",\n",
    "    poll_freq=30,\n",
    "    cleanup=True,\n",
    "    embedded_qsub_args={\n",
    "        \"l\": [\"rt_F=1\", \"h_rt=1:00:00\"],\n",
    "    },  # qsub options to be embedded in the script\n",
    "    qsub_args={\n",
    "        \"g\": \"groupname\",    # Enter your ABCI groupname.\n",
    "    },  # qsub options to be given when it is run on the command line\n",
    "    prerun_commands=[\n",
    "        \"source /etc/profile.d/modules.sh\",\n",
    "        \"module load python/3.10/3.10.10\",\n",
    "        \"source ~/amplify_env/bin/activate\",\n",
    "    ],\n",
    "    postrun_commands=[],\n",
    "    bashrc_path=\"~/.bashrc\",\n",
    "    log_stdout=\"stdout.log\",\n",
    "    log_stderr=\"stderr.log\",\n",
    ")"
   ]
  },
  {
   "cell_type": "markdown",
   "metadata": {},
   "source": [
    "First, we prepare the functions needed to solve the traveling salesman problem.\n",
    "\n",
    "The following is based on the code contained in [Amplify Examples](https://github.com/fixstars/amplify-examples/blob/main/notebooks/ja/examples/tsp.ipynb), and uses the covalent electron.\n",
    "\n",
    "However, Note that the sample code below is implemented with amplify v0.12 and is not guaranteed to work with amplify v1.0.0 or later."
   ]
  },
  {
   "cell_type": "code",
   "execution_count": 3,
   "metadata": {},
   "outputs": [],
   "source": [
    "import numpy as np\n",
    "\n",
    "# This task is executed on the local machine.\n",
    "@covalent.electron\n",
    "def gen_random_tsp(ncity: int) -> tuple[np.ndarray, np.ndarray]:\n",
    "    # coordinates\n",
    "    locations = np.random.uniform(size=(ncity, 2))\n",
    "\n",
    "    # distance matrix\n",
    "    all_diffs = np.expand_dims(locations, axis=1) - np.expand_dims(locations, axis=0)\n",
    "    distances = np.sqrt(np.sum(all_diffs**2, axis=-1))\n",
    "\n",
    "    return locations, distances"
   ]
  },
  {
   "cell_type": "code",
   "execution_count": 4,
   "metadata": {},
   "outputs": [],
   "source": [
    "import amplify\n",
    "\n",
    "# This task is executed on ABCI.\n",
    "@covalent.electron(executor=abci_executor)\n",
    "def solve_tsp(ncity: int, distances: np.ndarray) -> np.ndarray:\n",
    "    gen = amplify.BinarySymbolGenerator()\n",
    "    q = gen.array(ncity, ncity)\n",
    "\n",
    "    cost = amplify.einsum(\"ij,ni,nj->\", distances, q, q.roll(-1, axis=0))\n",
    "\n",
    "    # Constraints on row direction\n",
    "    row_constraints = [amplify.constraint.one_hot(q[n]) for n in range(ncity)]\n",
    "\n",
    "    # Constraints on column direction\n",
    "    col_constraints = [amplify.constraint.one_hot(q[:, i]) for i in range(ncity)]\n",
    "\n",
    "    constraints = sum(row_constraints) + sum(col_constraints)\n",
    "\n",
    "    constraints *= np.amax(distances)  # Set the weight of constraints\n",
    "    model = cost + constraints\n",
    "\n",
    "    client = amplify.client.FixstarsClient()\n",
    "    client.token = \"xxxxxxxxxxxxxxxxxxxxxxxxxxxxxxxxx\"  # Enter your token of Amplify AE.\n",
    "    client.parameters.timeout = 5000  # timeout in milliseconds\n",
    "\n",
    "    solver = amplify.Solver(client)\n",
    "\n",
    "    result = solver.solve(model)\n",
    "    if len(result) == 0:\n",
    "        raise RuntimeError(\"Any one of constraints is not satisfied.\")\n",
    "\n",
    "    energy, values = result[0].energy, result[0].values\n",
    "    q_values = q.decode(values)\n",
    "    route = np.where(np.array(q_values) == 1)[1]\n",
    "\n",
    "    return route"
   ]
  },
  {
   "cell_type": "code",
   "execution_count": 5,
   "metadata": {},
   "outputs": [],
   "source": [
    "import matplotlib.pyplot as plt\n",
    "\n",
    "# Function to visualize the obtained TSP solution.\n",
    "def show_route(route: list, distances: np.ndarray, locations: np.ndarray) -> np.float64:\n",
    "    ncity = len(route)\n",
    "    path_length = sum(\n",
    "        [distances[route[i]][route[(i + 1) % ncity]] for i in range(ncity)]\n",
    "    )\n",
    "\n",
    "    x = [i[0] for i in locations]\n",
    "    y = [i[1] for i in locations]\n",
    "    plt.figure(figsize=(7, 7))\n",
    "    plt.title(f\"path length: {path_length}\")\n",
    "    plt.xlabel(\"x\")\n",
    "    plt.ylabel(\"y\")\n",
    "\n",
    "    for i in range(ncity):\n",
    "        r = route[i]\n",
    "        n = route[(i + 1) % ncity]\n",
    "        plt.plot([x[r], x[n]], [y[r], y[n]], \"b-\")\n",
    "    plt.plot(x, y, \"ro\")\n",
    "    plt.show()\n",
    "\n",
    "    return path_length\n"
   ]
  },
  {
   "cell_type": "markdown",
   "metadata": {},
   "source": [
    "Combine the above two `electron` to create a `lattice` workflow."
   ]
  },
  {
   "cell_type": "code",
   "execution_count": null,
   "metadata": {},
   "outputs": [],
   "source": [
    "@covalent.lattice\n",
    "def workflow(ncity: int) -> tuple[np.ndarray, np.ndarray, np.ndarray]:\n",
    "    locations, distances = gen_random_tsp(ncity)\n",
    "    route = solve_tsp(ncity, distances)\n",
    "\n",
    "    return route, distances, locations"
   ]
  },
  {
   "cell_type": "markdown",
   "metadata": {},
   "source": [
    "Next, start the covalent server with the following command\n",
    "\n",
    "```console\n",
    "covalent start\n",
    "````\n",
    "\n",
    "With the default configuration, you can view the Covalent GUI by accessing http://localhost:48008/ from your browser."
   ]
  },
  {
   "cell_type": "markdown",
   "metadata": {},
   "source": [
    "Finally, execute the workflow. First, dispatch the workflow."
   ]
  },
  {
   "cell_type": "code",
   "execution_count": null,
   "metadata": {},
   "outputs": [],
   "source": [
    "dispatch_id = covalent.dispatch(workflow)(10)"
   ]
  },
  {
   "cell_type": "code",
   "execution_count": null,
   "metadata": {},
   "outputs": [],
   "source": [
    "print(dispatch_id)"
   ]
  },
  {
   "cell_type": "code",
   "execution_count": null,
   "metadata": {},
   "outputs": [],
   "source": [
    "result = covalent.get_result(dispatch_id, wait=True)\n",
    "print(result)"
   ]
  },
  {
   "cell_type": "markdown",
   "metadata": {},
   "source": [
    "Visualize the obtained solution."
   ]
  },
  {
   "cell_type": "code",
   "execution_count": null,
   "metadata": {},
   "outputs": [],
   "source": [
    "route, distances, locations = result.result\n",
    "\n",
    "path_length = show_route(route, distances, locations)"
   ]
  }
 ],
 "metadata": {
  "kernelspec": {
   "display_name": "covalent-gridengine-plugin-f7KjlutS",
   "language": "python",
   "name": "python3"
  },
  "language_info": {
   "codemirror_mode": {
    "name": "ipython",
    "version": 3
   },
   "file_extension": ".py",
   "mimetype": "text/x-python",
   "name": "python",
   "nbconvert_exporter": "python",
   "pygments_lexer": "ipython3",
   "version": "3.10.12"
  }
 },
 "nbformat": 4,
 "nbformat_minor": 4
}
